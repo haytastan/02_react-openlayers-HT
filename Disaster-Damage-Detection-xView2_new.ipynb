{
  "metadata": {
    "kernelspec": {
      "display_name": "Python 3",
      "language": "python",
      "name": "python3"
    },
    "language_info": {
      "name": "python",
      "version": "3.6.6",
      "mimetype": "text/x-python",
      "codemirror_mode": {
        "name": "ipython",
        "version": 3
      },
      "pygments_lexer": "ipython3",
      "nbconvert_exporter": "python",
      "file_extension": ".py"
    },
    "kaggle": {
      "accelerator": "none",
      "dataSources": [
        {
          "sourceId": 805364,
          "sourceType": "datasetVersion",
          "datasetId": 421612
        },
        {
          "sourceId": 805410,
          "sourceType": "datasetVersion",
          "datasetId": 421676
        }
      ],
      "dockerImageVersionId": 29840,
      "isInternetEnabled": true,
      "language": "python",
      "sourceType": "notebook",
      "isGpuEnabled": false
    },
    "colab": {
      "provenance": [],
      "include_colab_link": true
    }
  },
  "nbformat_minor": 0,
  "nbformat": 4,
  "cells": [
    {
      "cell_type": "markdown",
      "metadata": {
        "id": "view-in-github",
        "colab_type": "text"
      },
      "source": [
        "<a href=\"https://colab.research.google.com/github/haytastan/02_react-openlayers-HT/blob/master/Disaster-Damage-Detection-xView2_new.ipynb\" target=\"_parent\"><img src=\"https://colab.research.google.com/assets/colab-badge.svg\" alt=\"Open In Colab\"/></a>"
      ]
    },
    {
      "source": [
        "# IMPORTANT: RUN THIS CELL IN ORDER TO IMPORT YOUR KAGGLE DATA SOURCES,\n",
        "# THEN FEEL FREE TO DELETE THIS CELL.\n",
        "# NOTE: THIS NOTEBOOK ENVIRONMENT DIFFERS FROM KAGGLE'S PYTHON\n",
        "# ENVIRONMENT SO THERE MAY BE MISSING LIBRARIES USED BY YOUR\n",
        "# NOTEBOOK.\n",
        "import kagglehub\n",
        "tunguz_xview2_challenge_dataset_train_and_test_path = kagglehub.dataset_download('tunguz/xview2-challenge-dataset-train-and-test')\n",
        "tunguz_xview2_challenge_dataset_tier_3_data_path = kagglehub.dataset_download('tunguz/xview2-challenge-dataset-tier-3-data')\n",
        "\n",
        "print('Data source import complete.')\n"
      ],
      "metadata": {
        "id": "3Jgd3d_KonvR",
        "outputId": "ee540ab9-6919-440e-d7ad-11539ed76285",
        "colab": {
          "base_uri": "https://localhost:8080/"
        }
      },
      "cell_type": "code",
      "outputs": [
        {
          "metadata": {
            "tags": null
          },
          "name": "stdout",
          "output_type": "stream",
          "text": [
            "Downloading from https://www.kaggle.com/api/v1/datasets/download/tunguz/xview2-challenge-dataset-train-and-test?dataset_version_number=3...\n"
          ]
        },
        {
          "output_type": "stream",
          "name": "stderr",
          "text": [
            "100%|██████████| 10.3G/10.3G [02:16<00:00, 81.6MB/s]"
          ]
        },
        {
          "output_type": "stream",
          "name": "stdout",
          "text": [
            "Extracting files...\n"
          ]
        },
        {
          "output_type": "stream",
          "name": "stderr",
          "text": [
            "\n"
          ]
        },
        {
          "output_type": "stream",
          "name": "stdout",
          "text": [
            "Downloading from https://www.kaggle.com/api/v1/datasets/download/tunguz/xview2-challenge-dataset-tier-3-data?dataset_version_number=2...\n"
          ]
        },
        {
          "output_type": "stream",
          "name": "stderr",
          "text": [
            "100%|██████████| 17.3G/17.3G [03:26<00:00, 89.9MB/s]"
          ]
        },
        {
          "output_type": "stream",
          "name": "stdout",
          "text": [
            "Extracting files...\n"
          ]
        },
        {
          "output_type": "stream",
          "name": "stderr",
          "text": [
            "\n"
          ]
        },
        {
          "output_type": "stream",
          "name": "stdout",
          "text": [
            "Data source import complete.\n"
          ]
        }
      ],
      "execution_count": null
    },
    {
      "cell_type": "code",
      "source": [
        "import cv2\n",
        "import numpy as np\n",
        "import pandas as pd\n",
        "import matplotlib.pyplot as plt\n",
        "%matplotlib inline\n",
        "import keras\n",
        "import glob\n",
        "import os\n",
        "import tensorflow as tf\n",
        "import random\n",
        "import pickle\n",
        "import gc"
      ],
      "metadata": {
        "button": false,
        "deletable": true,
        "new_sheet": false,
        "run_control": {
          "read_only": false
        },
        "jupyter": {
          "outputs_hidden": false
        },
        "execution": {
          "iopub.status.busy": "2024-10-30T13:22:55.355358Z",
          "iopub.execute_input": "2024-10-30T13:22:55.355797Z",
          "iopub.status.idle": "2024-10-30T13:22:55.366371Z",
          "shell.execute_reply.started": "2024-10-30T13:22:55.355733Z",
          "shell.execute_reply": "2024-10-30T13:22:55.364985Z"
        },
        "trusted": true,
        "id": "QwnJ-nGAonvT"
      },
      "execution_count": null,
      "outputs": []
    },
    {
      "cell_type": "code",
      "source": [],
      "metadata": {
        "id": "GKftDWy5onvT"
      },
      "execution_count": null,
      "outputs": []
    },
    {
      "cell_type": "code",
      "source": [
        "num_classes = 2"
      ],
      "metadata": {
        "button": false,
        "deletable": true,
        "new_sheet": false,
        "run_control": {
          "read_only": false
        },
        "execution": {
          "iopub.status.busy": "2024-10-30T13:22:57.907587Z",
          "iopub.execute_input": "2024-10-30T13:22:57.907996Z",
          "iopub.status.idle": "2024-10-30T13:22:57.912808Z",
          "shell.execute_reply.started": "2024-10-30T13:22:57.907939Z",
          "shell.execute_reply": "2024-10-30T13:22:57.911684Z"
        },
        "trusted": true,
        "id": "KmlCqb8ponvT"
      },
      "execution_count": null,
      "outputs": []
    },
    {
      "cell_type": "code",
      "source": [
        "train_dir = '../vm-datasets/training_data/'\n",
        "\n",
        "train_damage = glob.glob(train_dir + 'damage/*jpg')\n",
        "train_other = glob.glob(train_dir + 'other/*jpg')\n",
        "print('There are %d damage image, %d non-damage images'%(len(train_damage), len(train_other)))\n",
        "\n",
        "if num_classes == 3:\n",
        "    train_unclear = glob.glob(train_dir + 'unclear/*jpg')\n",
        "    print('with %d unclear images.'%(len(train_unclear)))"
      ],
      "metadata": {
        "button": false,
        "deletable": true,
        "new_sheet": false,
        "run_control": {
          "read_only": false
        },
        "jupyter": {
          "outputs_hidden": false
        },
        "execution": {
          "iopub.status.busy": "2024-10-30T13:23:00.228952Z",
          "iopub.execute_input": "2024-10-30T13:23:00.229396Z",
          "iopub.status.idle": "2024-10-30T13:23:00.238304Z",
          "shell.execute_reply.started": "2024-10-30T13:23:00.229312Z",
          "shell.execute_reply": "2024-10-30T13:23:00.23705Z"
        },
        "trusted": true,
        "id": "ZizQ3r3JonvU",
        "outputId": "2888006d-2767-44e2-846c-4e9adf012578"
      },
      "execution_count": null,
      "outputs": [
        {
          "name": "stdout",
          "text": "There are 0 damage image, 0 non-damage images\n",
          "output_type": "stream"
        }
      ]
    },
    {
      "cell_type": "code",
      "source": [
        "train_imgs = train_damage + train_other\n",
        "\n",
        "if num_classes == 3:\n",
        "    train_imgs +=  train_unclear\n",
        "\n",
        "# add a seed here so that we can reproduce\n",
        "np.random.seed(42)\n",
        "random.shuffle(train_imgs)\n",
        "\n",
        "print('We have %d total images:'%len(train_imgs))"
      ],
      "metadata": {
        "button": false,
        "deletable": true,
        "new_sheet": false,
        "run_control": {
          "read_only": false
        },
        "jupyter": {
          "outputs_hidden": false
        },
        "execution": {
          "iopub.status.busy": "2024-10-30T13:23:02.590184Z",
          "iopub.execute_input": "2024-10-30T13:23:02.59067Z",
          "iopub.status.idle": "2024-10-30T13:23:02.597984Z",
          "shell.execute_reply.started": "2024-10-30T13:23:02.590581Z",
          "shell.execute_reply": "2024-10-30T13:23:02.596822Z"
        },
        "trusted": true,
        "id": "IcWSTefqonvU",
        "outputId": "32b270de-321d-4183-9798-3d77f77b18a3"
      },
      "execution_count": null,
      "outputs": [
        {
          "name": "stdout",
          "text": "We have 0 total images:\n",
          "output_type": "stream"
        }
      ]
    },
    {
      "cell_type": "code",
      "source": [
        "nrows = 150\n",
        "ncolumns = 150\n",
        "channels = 3"
      ],
      "metadata": {
        "button": false,
        "deletable": true,
        "new_sheet": false,
        "run_control": {
          "read_only": false
        },
        "execution": {
          "iopub.status.busy": "2024-10-30T13:23:05.409915Z",
          "iopub.execute_input": "2024-10-30T13:23:05.41027Z",
          "iopub.status.idle": "2024-10-30T13:23:05.415542Z",
          "shell.execute_reply.started": "2024-10-30T13:23:05.410218Z",
          "shell.execute_reply": "2024-10-30T13:23:05.4143Z"
        },
        "trusted": true,
        "id": "Min9NxFXonvV"
      },
      "execution_count": null,
      "outputs": []
    },
    {
      "cell_type": "code",
      "source": [
        "from tqdm import tqdm\n",
        "def read_and_process_image(list_of_images, num_classes):\n",
        "    X = []\n",
        "    y = []\n",
        "\n",
        "    for image in tqdm(list_of_images):\n",
        "        img_temp = cv2.resize(cv2.imread(image, cv2.IMREAD_COLOR), (nrows, ncolumns), interpolation=cv2.INTER_CUBIC)\n",
        "        b,g,r = cv2.split(img_temp)           # get b, g, r\n",
        "        rgb_img1 = cv2.merge([r,g,b])     # switch it to r, g, b\n",
        "\n",
        "        X.append(rgb_img1)\n",
        "        if 'damage' in image:\n",
        "            y.append(1)\n",
        "        elif 'other' in image:\n",
        "            y.append(0)\n",
        "\n",
        "        if num_classes == 3:\n",
        "            if 'unclear' in image:\n",
        "                y.append(2)\n",
        "\n",
        "    return X, y"
      ],
      "metadata": {
        "button": false,
        "deletable": true,
        "new_sheet": false,
        "run_control": {
          "read_only": false
        },
        "execution": {
          "iopub.status.busy": "2024-10-30T13:23:08.538914Z",
          "iopub.execute_input": "2024-10-30T13:23:08.539279Z",
          "iopub.status.idle": "2024-10-30T13:23:08.551902Z",
          "shell.execute_reply.started": "2024-10-30T13:23:08.539224Z",
          "shell.execute_reply": "2024-10-30T13:23:08.550728Z"
        },
        "trusted": true,
        "id": "rlA9reQJonvV"
      },
      "execution_count": null,
      "outputs": []
    },
    {
      "cell_type": "code",
      "source": [
        "X, y = read_and_process_image(train_imgs, num_classes=num_classes)\n",
        "X = np.array(X)\n",
        "y = np.array(y)"
      ],
      "metadata": {
        "button": false,
        "deletable": true,
        "new_sheet": false,
        "run_control": {
          "read_only": false
        },
        "jupyter": {
          "outputs_hidden": false
        },
        "execution": {
          "iopub.status.busy": "2024-10-30T13:23:10.946844Z",
          "iopub.execute_input": "2024-10-30T13:23:10.947235Z",
          "iopub.status.idle": "2024-10-30T13:23:10.956649Z",
          "shell.execute_reply.started": "2024-10-30T13:23:10.947166Z",
          "shell.execute_reply": "2024-10-30T13:23:10.955616Z"
        },
        "trusted": true,
        "id": "cmDNgtn_onvV",
        "outputId": "7e092f60-88af-498d-fc41-172e551a9b03"
      },
      "execution_count": null,
      "outputs": [
        {
          "name": "stderr",
          "text": "0it [00:00, ?it/s]\n",
          "output_type": "stream"
        }
      ]
    },
    {
      "cell_type": "code",
      "source": [
        "from sklearn.utils import class_weight\n",
        "\n",
        "class_weights = class_weight.compute_class_weight('balanced',\n",
        "                                                 np.unique(y),\n",
        "                                                 y)"
      ],
      "metadata": {
        "button": false,
        "deletable": true,
        "new_sheet": false,
        "run_control": {
          "read_only": false
        },
        "execution": {
          "iopub.status.busy": "2024-10-30T13:23:13.476505Z",
          "iopub.execute_input": "2024-10-30T13:23:13.476915Z",
          "iopub.status.idle": "2024-10-30T13:23:13.513082Z",
          "shell.execute_reply.started": "2024-10-30T13:23:13.476857Z",
          "shell.execute_reply": "2024-10-30T13:23:13.511433Z"
        },
        "trusted": true,
        "id": "jkUpozooonvV",
        "outputId": "dc2c4b27-9ba8-4b30-c061-8161544a98e7"
      },
      "execution_count": null,
      "outputs": [
        {
          "traceback": [
            "\u001b[0;31m---------------------------------------------------------------------------\u001b[0m",
            "\u001b[0;31mIndexError\u001b[0m                                Traceback (most recent call last)",
            "\u001b[0;32m<ipython-input-123-7145bd2afd28>\u001b[0m in \u001b[0;36m<module>\u001b[0;34m\u001b[0m\n\u001b[1;32m      3\u001b[0m class_weights = class_weight.compute_class_weight('balanced',\n\u001b[1;32m      4\u001b[0m                                                  \u001b[0mnp\u001b[0m\u001b[0;34m.\u001b[0m\u001b[0munique\u001b[0m\u001b[0;34m(\u001b[0m\u001b[0my\u001b[0m\u001b[0;34m)\u001b[0m\u001b[0;34m,\u001b[0m\u001b[0;34m\u001b[0m\u001b[0m\n\u001b[0;32m----> 5\u001b[0;31m                                                  y)\n\u001b[0m",
            "\u001b[0;32m/opt/conda/lib/python3.6/site-packages/sklearn/utils/class_weight.py\u001b[0m in \u001b[0;36mcompute_class_weight\u001b[0;34m(class_weight, classes, y)\u001b[0m\n\u001b[1;32m     53\u001b[0m         recip_freq = len(y) / (len(le.classes_) *\n\u001b[1;32m     54\u001b[0m                                np.bincount(y_ind).astype(np.float64))\n\u001b[0;32m---> 55\u001b[0;31m         \u001b[0mweight\u001b[0m \u001b[0;34m=\u001b[0m \u001b[0mrecip_freq\u001b[0m\u001b[0;34m[\u001b[0m\u001b[0mle\u001b[0m\u001b[0;34m.\u001b[0m\u001b[0mtransform\u001b[0m\u001b[0;34m(\u001b[0m\u001b[0mclasses\u001b[0m\u001b[0;34m)\u001b[0m\u001b[0;34m]\u001b[0m\u001b[0;34m\u001b[0m\u001b[0m\n\u001b[0m\u001b[1;32m     56\u001b[0m     \u001b[0;32melse\u001b[0m\u001b[0;34m:\u001b[0m\u001b[0;34m\u001b[0m\u001b[0m\n\u001b[1;32m     57\u001b[0m         \u001b[0;31m# user-defined dictionary\u001b[0m\u001b[0;34m\u001b[0m\u001b[0;34m\u001b[0m\u001b[0m\n",
            "\u001b[0;31mIndexError\u001b[0m: arrays used as indices must be of integer (or boolean) type"
          ],
          "ename": "IndexError",
          "evalue": "arrays used as indices must be of integer (or boolean) type",
          "output_type": "error"
        }
      ]
    },
    {
      "cell_type": "code",
      "source": [
        "# convert data to float 32 to save memory\n",
        "X = X.astype(np.float32)\n",
        "# convert the label to categorical\n",
        "y = tf.keras.utils.to_categorical(\n",
        "    y, num_classes=num_classes, dtype='float32'\n",
        ")"
      ],
      "metadata": {
        "button": false,
        "deletable": true,
        "new_sheet": false,
        "run_control": {
          "read_only": false
        },
        "execution": {
          "iopub.status.busy": "2024-10-30T13:22:36.847886Z",
          "iopub.status.idle": "2024-10-30T13:22:36.848427Z"
        },
        "trusted": true,
        "id": "egvW1C9zonvW"
      },
      "execution_count": null,
      "outputs": []
    },
    {
      "cell_type": "code",
      "source": [
        "from sklearn.model_selection import train_test_split\n",
        "X_train, X_val, y_train, y_val = train_test_split(X, y, test_size=0.2, random_state=2)"
      ],
      "metadata": {
        "button": false,
        "deletable": true,
        "new_sheet": false,
        "run_control": {
          "read_only": false
        },
        "execution": {
          "iopub.status.busy": "2024-10-30T13:22:36.850325Z",
          "iopub.status.idle": "2024-10-30T13:22:36.850891Z"
        },
        "trusted": true,
        "id": "doy1q3GaonvW"
      },
      "execution_count": null,
      "outputs": []
    },
    {
      "cell_type": "code",
      "source": [
        "import tensorflow.keras as keras\n",
        "from keras import layers\n",
        "from keras import models\n",
        "from keras import optimizers\n",
        "from keras import regularizers\n",
        "from keras.preprocessing.image import ImageDataGenerator\n",
        "from keras.preprocessing.image import img_to_array, load_img\n",
        "from keras.callbacks import ModelCheckpoint"
      ],
      "metadata": {
        "button": false,
        "deletable": true,
        "new_sheet": false,
        "run_control": {
          "read_only": false
        },
        "execution": {
          "iopub.status.busy": "2024-10-30T13:22:36.852444Z",
          "iopub.status.idle": "2024-10-30T13:22:36.853178Z"
        },
        "trusted": true,
        "id": "AALoIdyTonvW"
      },
      "execution_count": null,
      "outputs": []
    },
    {
      "cell_type": "code",
      "source": [
        "train_datagen = ImageDataGenerator(rescale=1./255, horizontal_flip=True, shear_range=0.2)\n",
        "val_datagen = ImageDataGenerator(rescale=1./255)\n",
        "test_datagen = ImageDataGenerator(rescale=1./255)"
      ],
      "metadata": {
        "button": false,
        "deletable": true,
        "new_sheet": false,
        "run_control": {
          "read_only": false
        },
        "execution": {
          "iopub.status.busy": "2024-10-30T13:22:36.854997Z",
          "iopub.status.idle": "2024-10-30T13:22:36.855734Z"
        },
        "trusted": true,
        "id": "wi8tUxN7onvW"
      },
      "execution_count": null,
      "outputs": []
    },
    {
      "cell_type": "code",
      "source": [
        "ntrain = len(X_train)\n",
        "nval = len(X_val)\n",
        "batch_size = 16\n"
      ],
      "metadata": {
        "button": false,
        "deletable": true,
        "new_sheet": false,
        "run_control": {
          "read_only": false
        },
        "execution": {
          "iopub.status.busy": "2024-10-30T13:22:36.857093Z",
          "iopub.status.idle": "2024-10-30T13:22:36.857881Z"
        },
        "trusted": true,
        "id": "LTMzZZoVonvW"
      },
      "execution_count": null,
      "outputs": []
    },
    {
      "cell_type": "code",
      "source": [
        "train_generator = train_datagen.flow(X_train, y_train, batch_size=batch_size)\n",
        "val_generator = val_datagen.flow(X_val, y_val, batch_size=batch_size)\n",
        "#test_generator = test_datagen.flow(X_test, y_test, batch_size=batch_size)"
      ],
      "metadata": {
        "button": false,
        "deletable": true,
        "new_sheet": false,
        "run_control": {
          "read_only": false
        },
        "execution": {
          "iopub.status.busy": "2024-10-30T13:22:36.859298Z",
          "iopub.status.idle": "2024-10-30T13:22:36.859946Z"
        },
        "trusted": true,
        "id": "6qtYMdKTonvW"
      },
      "execution_count": null,
      "outputs": []
    },
    {
      "cell_type": "code",
      "source": [
        "model = models.Sequential()\n",
        "model.add(layers.Conv2D(128, (3, 3), activation='relu', input_shape=(150, 150, 3)))\n",
        "model.add(layers.MaxPooling2D((2, 2)))\n",
        "model.add(layers.Conv2D(256, (3, 3), activation='relu'))\n",
        "model.add(layers.MaxPooling2D((2, 2)))\n",
        "model.add(layers.Conv2D(256, (3, 3), activation='relu'))\n",
        "model.add(layers.MaxPooling2D((2, 2)))\n",
        "model.add(layers.Conv2D(128, (3, 3), activation='relu'))\n",
        "model.add(layers.MaxPooling2D((2, 2)))\n",
        "model.add(layers.Flatten())\n",
        "model.add(layers.Dropout(0.5))\n",
        "model.add(layers.Dense(64, activation='relu'))\n",
        "model.add(layers.Dense(2, activation='softmax'))\n",
        "model.summary()"
      ],
      "metadata": {
        "button": false,
        "deletable": true,
        "new_sheet": false,
        "run_control": {
          "read_only": false
        },
        "jupyter": {
          "outputs_hidden": false
        },
        "execution": {
          "iopub.status.busy": "2024-10-30T13:22:36.86133Z",
          "iopub.status.idle": "2024-10-30T13:22:36.862051Z"
        },
        "trusted": true,
        "id": "7iNhMxuzonvW"
      },
      "execution_count": null,
      "outputs": []
    },
    {
      "cell_type": "code",
      "source": [
        "if num_classes == 3:\n",
        "    output_path = '../outputs/working/baseline/3_class_VGG19/'\n",
        "else:\n",
        "    output_path = '../outputs/working/baseline/2_class_VGG19/'\n",
        "\n",
        "\n",
        "checkpoint_val_loss = ModelCheckpoint(output_path + 'Best_loss_model-{epoch:03d}-{loss:03f}-{val_loss:03f}.h5', verbose=1, monitor='val_loss',save_best_only=True, mode='auto')\n",
        "checkpoint_val_acc = ModelCheckpoint(output_path + 'Best_acc_model-{epoch:03d}-{acc:03f}-{val_acc:03f}.h5', verbose=1, monitor='val_acc',save_best_only=True, mode='auto')"
      ],
      "metadata": {
        "button": false,
        "deletable": true,
        "new_sheet": false,
        "run_control": {
          "read_only": false
        },
        "execution": {
          "iopub.status.busy": "2024-10-30T13:22:36.863362Z",
          "iopub.status.idle": "2024-10-30T13:22:36.864106Z"
        },
        "trusted": true,
        "id": "hmSb77YconvW"
      },
      "execution_count": null,
      "outputs": []
    },
    {
      "cell_type": "code",
      "source": [
        "model.compile(loss='categorical_crossentropy',\n",
        "              optimizer=optimizers.RMSprop(lr=1e-5),\n",
        "              metrics=['acc'])\n",
        "\n",
        "history = model.fit_generator(\n",
        "      train_generator,\n",
        "      steps_per_epoch=100,\n",
        "      epochs=350,\n",
        "      class_weight=class_weights,\n",
        "      validation_data=val_generator,\n",
        "      validation_steps=50,\n",
        "     callbacks=[checkpoint_val_loss, checkpoint_val_acc])"
      ],
      "metadata": {
        "button": false,
        "deletable": true,
        "new_sheet": false,
        "run_control": {
          "read_only": false
        },
        "jupyter": {
          "outputs_hidden": false
        },
        "execution": {
          "iopub.status.busy": "2024-10-30T13:22:36.865837Z",
          "iopub.status.idle": "2024-10-30T13:22:36.866588Z"
        },
        "trusted": true,
        "id": "uIF0zT8GonvW"
      },
      "execution_count": null,
      "outputs": []
    },
    {
      "cell_type": "code",
      "source": [
        "acc = history.history['acc']\n",
        "val_acc = history.history['val_acc']\n",
        "epochs = range(1, len(acc) + 1)\n",
        "plt.figure(figsize=(12, 8))\n",
        "plt.plot(epochs, acc, 'b', label='Training accuracy')\n",
        "plt.plot(epochs, val_acc, 'r', label='Validation accuracy')\n",
        "plt.legend()\n",
        "plt.xlabel('Training Epoch')\n",
        "plt.ylabel('Accuracy')\n",
        "plt.savefig(output_path + 'training_curve.pdf')"
      ],
      "metadata": {
        "button": false,
        "deletable": true,
        "new_sheet": false,
        "run_control": {
          "read_only": false
        },
        "jupyter": {
          "outputs_hidden": false
        },
        "execution": {
          "iopub.status.busy": "2024-10-30T13:22:36.868139Z",
          "iopub.status.idle": "2024-10-30T13:22:36.868812Z"
        },
        "trusted": true,
        "id": "s9AZ9D5YonvW"
      },
      "execution_count": null,
      "outputs": []
    },
    {
      "cell_type": "code",
      "source": [
        "loss = history.history['loss']\n",
        "val_loss = history.history['val_loss']\n",
        "epochs = range(1, len(acc) + 1)\n",
        "plt.figure(figsize=(12, 8))\n",
        "plt.plot(epochs, loss, 'b', label='Training loss')\n",
        "plt.plot(epochs, val_loss, 'r', label='Validation loss')\n",
        "plt.legend()\n",
        "plt.xlabel('Training Epoch')\n",
        "plt.ylabel('Loss')\n",
        "plt.savefig(output_path + 'training_loss_curve.pdf')"
      ],
      "metadata": {
        "button": false,
        "deletable": true,
        "new_sheet": false,
        "run_control": {
          "read_only": false
        },
        "jupyter": {
          "outputs_hidden": false
        },
        "execution": {
          "iopub.status.busy": "2024-10-30T13:22:36.870455Z",
          "iopub.status.idle": "2024-10-30T13:22:36.871453Z"
        },
        "trusted": true,
        "id": "-h1YPPFoonvW"
      },
      "execution_count": null,
      "outputs": []
    },
    {
      "cell_type": "code",
      "source": [
        "with open(output_path + 'trainHistoryDict.pkl', 'wb') as file_pi:\n",
        "    pickle.dump(history.history, file_pi)"
      ],
      "metadata": {
        "button": false,
        "deletable": true,
        "new_sheet": false,
        "run_control": {
          "read_only": false
        },
        "execution": {
          "iopub.status.busy": "2024-10-30T13:22:36.873109Z",
          "iopub.status.idle": "2024-10-30T13:22:36.873789Z"
        },
        "trusted": true,
        "id": "55LberGyonvW"
      },
      "execution_count": null,
      "outputs": []
    }
  ]
}